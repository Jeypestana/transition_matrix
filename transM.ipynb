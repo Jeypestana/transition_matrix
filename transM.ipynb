{
 "cells": [
  {
   "cell_type": "code",
   "execution_count": 2,
   "metadata": {
    "vscode": {
     "languageId": "r"
    }
   },
   "outputs": [
    {
     "name": "stderr",
     "output_type": "stream",
     "text": [
      "Warning message:\n",
      "\"package 'markovchain' was built under R version 4.3.1\"\n",
      "Package:  markovchain\n",
      "Version:  0.9.5\n",
      "Date:     2023-09-24 09:20:02 UTC\n",
      "BugReport: https://github.com/spedygiorgio/markovchain/issues\n",
      "\n",
      "\n"
     ]
    }
   ],
   "source": [
    "library(markovchain)"
   ]
  },
  {
   "cell_type": "code",
   "execution_count": 40,
   "metadata": {
    "vscode": {
     "languageId": "r"
    }
   },
   "outputs": [],
   "source": [
    "# cargamos los estados\n",
    "estados = c(\"000-000\",\"001-030\",\"031-060\",\"061-090\",\"091-120\",\"121-150\",\"Mayor a 150\")"
   ]
  },
  {
   "cell_type": "code",
   "execution_count": 41,
   "metadata": {
    "vscode": {
     "languageId": "r"
    }
   },
   "outputs": [],
   "source": [
    "# cargamps la matriz de cada fila por rango de tiempo semestral\n",
    "ps = matrix(c(0.983399623,0.003940022,0.003902676,0.002763617,0.00356656,0.002203425,0.000224077,\n",
    "0.566502463,0.066502463,0.068965517,0.02955665,0.02955665,0.017241379,0.221674877,\n",
    "0.403908795,0.058631922,0.078175896,0.058631922,0.042345277,0.022801303,0.335504886,\n",
    "0.372881356,0.016949153,0.021186441,0.016949153,0.021186441,0.050847458,0.5,\n",
    "0.219858156,0.028368794,0.007092199,0,0,0.028368794,0.716312057,\n",
    "0.17721519,0.018987342,0,0.006329114,0.006329114,0.025316456,0.765822785,\n",
    "0.067690831,0.000960154,0,0.000480077,0,0,0.930868939),nrow = 7 , byrow = TRUE, dimnames = list(estados,estados))"
   ]
  },
  {
   "cell_type": "code",
   "execution_count": 6,
   "metadata": {
    "vscode": {
     "languageId": "r"
    }
   },
   "outputs": [
    {
     "data": {
      "text/plain": [
       "Cadena Markov \n",
       " A  7 - dimensional discrete Markov Chain defined by the following states: \n",
       " 000-000, 001-030, 031-060, 061-090, 091-120, 121-150, Mayor a 150 \n",
       " The transition matrix  (by rows)  is defined as follows: \n",
       "               000-000     001-030     031-060     061-090     091-120\n",
       "000-000     0.98339962 0.003940022 0.003902676 0.002763617 0.003566560\n",
       "001-030     0.56650246 0.066502463 0.068965517 0.029556650 0.029556650\n",
       "031-060     0.40390879 0.058631922 0.078175896 0.058631922 0.042345277\n",
       "061-090     0.37288136 0.016949153 0.021186441 0.016949153 0.021186441\n",
       "091-120     0.21985816 0.028368794 0.007092199 0.000000000 0.000000000\n",
       "121-150     0.17721519 0.018987342 0.000000000 0.006329114 0.006329114\n",
       "Mayor a 150 0.06769083 0.000960154 0.000000000 0.000480077 0.000000000\n",
       "                121-150 Mayor a 150\n",
       "000-000     0.002203425 0.000224077\n",
       "001-030     0.017241379 0.221674877\n",
       "031-060     0.022801303 0.335504886\n",
       "061-090     0.050847458 0.500000000\n",
       "091-120     0.028368794 0.716312057\n",
       "121-150     0.025316456 0.765822785\n",
       "Mayor a 150 0.000000000 0.930868939\n"
      ]
     },
     "metadata": {},
     "output_type": "display_data"
    }
   ],
   "source": [
    "#Elaboramos la matriz de transicion semestral\n",
    "mcs <- new(\"markovchain\",transitionMatrix=ps,states=estados,name=\"Cadena Markov\")\n",
    "mcs"
   ]
  },
  {
   "cell_type": "code",
   "execution_count": 10,
   "metadata": {
    "vscode": {
     "languageId": "r"
    }
   },
   "outputs": [
    {
     "name": "stdout",
     "output_type": "stream",
     "text": [
      "Cadena Markov  Markov chain that is composed by: \n",
      "Closed classes: \n",
      "000-000 001-030 031-060 061-090 091-120 121-150 Mayor a 150 \n",
      "Recurrent classes: \n",
      "{000-000,001-030,031-060,061-090,091-120,121-150,Mayor a 150}\n",
      "Transient classes: \n",
      "NONE \n",
      "The Markov chain is irreducible \n",
      "The absorbing states are: NONE\n"
     ]
    }
   ],
   "source": [
    "# resumen de la matriz\n",
    "# recurrentClasses(mcs)\n",
    "# canonicForm(mcs)\n",
    "summary(mcs)"
   ]
  },
  {
   "cell_type": "markdown",
   "metadata": {},
   "source": [
    "### Podemos decir que es irreducible dado que todos los estados se comunican entre si \n",
    "### con 7 estados , y recurrente y no transistente"
   ]
  },
  {
   "cell_type": "code",
   "execution_count": 11,
   "metadata": {
    "vscode": {
     "languageId": "r"
    }
   },
   "outputs": [
    {
     "data": {
      "image/png": "[encoded data removed]",
      "text/plain": [
       "Plot with title \"Cadena de Markov\""
      ]
     },
     "metadata": {
      "image/png": {
       "height": 420,
       "width": 420
      }
     },
     "output_type": "display_data"
    }
   ],
   "source": [
    "# Graficamos la matriz\n",
    "plot(mcs,main=\"Cadena de Markov\")"
   ]
  },
  {
   "cell_type": "markdown",
   "metadata": {},
   "source": [
    "### Podemos ver los nodos representados, asi como las probabilidades de transicion entre nodos"
   ]
  },
  {
   "cell_type": "code",
   "execution_count": 16,
   "metadata": {
    "vscode": {
     "languageId": "r"
    }
   },
   "outputs": [
    {
     "data": {
      "text/html": [],
      "text/latex": [],
      "text/markdown": [],
      "text/plain": [
       "character(0)"
      ]
     },
     "metadata": {},
     "output_type": "display_data"
    },
    {
     "data": {
      "text/html": [],
      "text/latex": [],
      "text/markdown": [],
      "text/plain": [
       "character(0)"
      ]
     },
     "metadata": {},
     "output_type": "display_data"
    },
    {
     "data": {
      "text/html": [
       "<ol>\n",
       "\t<li><style>\n",
       ".list-inline {list-style: none; margin:0; padding: 0}\n",
       ".list-inline>li {display: inline-block}\n",
       ".list-inline>li:not(:last-child)::after {content: \"\\00b7\"; padding: 0 .5ex}\n",
       "</style>\n",
       "<ol class=list-inline><li>'000-000'</li><li>'001-030'</li><li>'031-060'</li><li>'061-090'</li><li>'091-120'</li><li>'121-150'</li><li>'Mayor a 150'</li></ol>\n",
       "</li>\n",
       "</ol>\n"
      ],
      "text/latex": [
       "\\begin{enumerate}\n",
       "\\item \\begin{enumerate*}\n",
       "\\item '000-000'\n",
       "\\item '001-030'\n",
       "\\item '031-060'\n",
       "\\item '061-090'\n",
       "\\item '091-120'\n",
       "\\item '121-150'\n",
       "\\item 'Mayor a 150'\n",
       "\\end{enumerate*}\n",
       "\n",
       "\\end{enumerate}\n"
      ],
      "text/markdown": [
       "1. 1. '000-000'\n",
       "2. '001-030'\n",
       "3. '031-060'\n",
       "4. '061-090'\n",
       "5. '091-120'\n",
       "6. '121-150'\n",
       "7. 'Mayor a 150'\n",
       "\n",
       "\n",
       "\n",
       "\n",
       "\n"
      ],
      "text/plain": [
       "[[1]]\n",
       "[1] \"000-000\"     \"001-030\"     \"031-060\"     \"061-090\"     \"091-120\"    \n",
       "[6] \"121-150\"     \"Mayor a 150\"\n"
      ]
     },
     "metadata": {},
     "output_type": "display_data"
    }
   ],
   "source": [
    "#compomentes individulaes\n",
    "#compomentes individulaes\n",
    "absorbingStates(mcs)\n",
    "transientStates(mcs)\n",
    "recurrentClasses(mcs)"
   ]
  },
  {
   "cell_type": "markdown",
   "metadata": {},
   "source": [
    "### No tiene estados absorventes , ni transitoria , pero si es recurrente entre los estados"
   ]
  },
  {
   "cell_type": "markdown",
   "metadata": {},
   "source": [
    "## Validacion de probabilidades entre transiciones"
   ]
  },
  {
   "cell_type": "code",
   "execution_count": 18,
   "metadata": {
    "vscode": {
     "languageId": "r"
    }
   },
   "outputs": [
    {
     "data": {
      "text/html": [
       "6.8965517"
      ],
      "text/latex": [
       "6.8965517"
      ],
      "text/markdown": [
       "6.8965517"
      ],
      "text/plain": [
       "[1] 6.896552"
      ]
     },
     "metadata": {},
     "output_type": "display_data"
    }
   ],
   "source": [
    "# podemos calcular las probabilidades de transicion para un estado t0 a t1 , en este caso como son datos de financera se quiere mirar la probabilidad\n",
    "# de que entre a ICV a un paso , en este caso semestral\n",
    "t0 = \"001-030\"\n",
    "t1 = \"031-060\"\n",
    "\n",
    "transitionProbability(object = mcs, t0 = t0, t1 = t1) * 100"
   ]
  },
  {
   "cell_type": "markdown",
   "metadata": {},
   "source": [
    "### Podemos ver que la probabilidad para entrar a cartera vencida esta con un 6.89% dado que inicio en el estado 001-030 para un paso \"semestral\""
   ]
  },
  {
   "cell_type": "markdown",
   "metadata": {},
   "source": [
    "## Calculamos a 2 pasos la matriz , simprelente potenciamos la matriz a los n pasos sugeridos"
   ]
  },
  {
   "cell_type": "code",
   "execution_count": 21,
   "metadata": {
    "vscode": {
     "languageId": "r"
    }
   },
   "outputs": [
    {
     "data": {
      "text/plain": [
       "Cadena Markov^2 \n",
       " A  7 - dimensional discrete Markov Chain defined by the following states: \n",
       " 000-000, 001-030, 031-060, 061-090, 091-120, 121-150, Mayor a 150 \n",
       " The transition matrix  (by rows)  is defined as follows: \n",
       "              000-000     001-030     031-060      061-090      091-120\n",
       "000-000     0.9731035 0.004555531 0.004498557 0.0031239094 0.0038615644\n",
       "001-030     0.6582081 0.012577847 0.013024515 0.0082912705 0.0076417418\n",
       "031-060     0.5199189 0.013024298 0.013273900 0.0087319571 0.0078704219\n",
       "061-090     0.4386849 0.006172366 0.004789762 0.0036227948 0.0034089212\n",
       "091-120     0.2886592 0.004395088 0.003368943 0.0023853538 0.0021024943\n",
       "121-150     0.2451069 0.003463759 0.002180064 0.0016861149 0.0014875730\n",
       "Mayor a 150 0.1303014 0.001232470 0.000340564 0.0006704761 0.0002799735\n",
       "                 121-150 Mayor a 150\n",
       "000-000     0.0026212496 0.008235726\n",
       "001-030     0.0067452012 0.293511342\n",
       "031-060     0.0084432070 0.428737354\n",
       "061-090     0.0043470539 0.538974201\n",
       "091-120     0.0018534668 0.697235495\n",
       "121-150     0.0018601400 0.744215466\n",
       "Mayor a 150 0.0001901167 0.866985030\n"
      ]
     },
     "metadata": {},
     "output_type": "display_data"
    }
   ],
   "source": [
    "n = 2\n",
    "msc_n = mcs^n ; msc_n"
   ]
  },
  {
   "cell_type": "markdown",
   "metadata": {},
   "source": [
    "### Calculamos de nuevo la probabilidad de entrar a ICV en 2 pasos"
   ]
  },
  {
   "cell_type": "code",
   "execution_count": 24,
   "metadata": {
    "vscode": {
     "languageId": "r"
    }
   },
   "outputs": [
    {
     "data": {
      "text/html": [
       "1.30245152583936"
      ],
      "text/latex": [
       "1.30245152583936"
      ],
      "text/markdown": [
       "1.30245152583936"
      ],
      "text/plain": [
       "[1] 1.302452"
      ]
     },
     "metadata": {},
     "output_type": "display_data"
    }
   ],
   "source": [
    "t0 = \"001-030\"\n",
    "t1 = \"031-060\"\n",
    "\n",
    "transitionProbability(object = msc_n, t0 = t0, t1 = t1) * 100"
   ]
  },
  {
   "cell_type": "markdown",
   "metadata": {},
   "source": [
    "### Podemos ver que a 2 pasos \" 2 años \" la probabilidad de entrar a ICV aumenta al 1.30% \n",
    "### cuando n va a infinito la matriz ya se mantiene estable"
   ]
  },
  {
   "cell_type": "code",
   "execution_count": 34,
   "metadata": {
    "vscode": {
     "languageId": "r"
    }
   },
   "outputs": [
    {
     "data": {
      "text/html": [
       "<table class=\"dataframe\">\n",
       "<caption>A matrix: 2 × 7 of type dbl</caption>\n",
       "<thead>\n",
       "\t<tr><th></th><th scope=col>000-000</th><th scope=col>001-030</th><th scope=col>031-060</th><th scope=col>061-090</th><th scope=col>091-120</th><th scope=col>121-150</th><th scope=col>Mayor a 150</th></tr>\n",
       "</thead>\n",
       "<tbody>\n",
       "\t<tr><th scope=row>1</th><td>0.5665025</td><td>0.06650246</td><td>0.068965517</td><td>0.02955665</td><td>0.029556650</td><td>0.017241379</td><td>0.22167488</td></tr>\n",
       "\t<tr><th scope=row>2</th><td>0.1011098</td><td>0.00815527</td><td>0.007633074</td><td>0.00779031</td><td>0.007641742</td><td>0.006308711</td><td>0.08716108</td></tr>\n",
       "</tbody>\n",
       "</table>\n"
      ],
      "text/latex": [
       "A matrix: 2 × 7 of type dbl\n",
       "\\begin{tabular}{r|lllllll}\n",
       "  & 000-000 & 001-030 & 031-060 & 061-090 & 091-120 & 121-150 & Mayor a 150\\\\\n",
       "\\hline\n",
       "\t1 & 0.5665025 & 0.06650246 & 0.068965517 & 0.02955665 & 0.029556650 & 0.017241379 & 0.22167488\\\\\n",
       "\t2 & 0.1011098 & 0.00815527 & 0.007633074 & 0.00779031 & 0.007641742 & 0.006308711 & 0.08716108\\\\\n",
       "\\end{tabular}\n"
      ],
      "text/markdown": [
       "\n",
       "A matrix: 2 × 7 of type dbl\n",
       "\n",
       "| <!--/--> | 000-000 | 001-030 | 031-060 | 061-090 | 091-120 | 121-150 | Mayor a 150 |\n",
       "|---|---|---|---|---|---|---|---|\n",
       "| 1 | 0.5665025 | 0.06650246 | 0.068965517 | 0.02955665 | 0.029556650 | 0.017241379 | 0.22167488 |\n",
       "| 2 | 0.1011098 | 0.00815527 | 0.007633074 | 0.00779031 | 0.007641742 | 0.006308711 | 0.08716108 |\n",
       "\n"
      ],
      "text/plain": [
       "  000-000   001-030    031-060     061-090    091-120     121-150    \n",
       "1 0.5665025 0.06650246 0.068965517 0.02955665 0.029556650 0.017241379\n",
       "2 0.1011098 0.00815527 0.007633074 0.00779031 0.007641742 0.006308711\n",
       "  Mayor a 150\n",
       "1 0.22167488 \n",
       "2 0.08716108 "
      ]
     },
     "metadata": {},
     "output_type": "display_data"
    }
   ],
   "source": [
    "# Calculo probabilidad del primer paso para el conjunto de estado completo\n",
    "mcs_n1<-as(mcs, \"markovchain\")\n",
    "firstPassage(mcs_n1, \"001-030\",2)"
   ]
  },
  {
   "cell_type": "markdown",
   "metadata": {},
   "source": [
    "## Comprobacion de estacionariedad"
   ]
  },
  {
   "cell_type": "code",
   "execution_count": 25,
   "metadata": {
    "vscode": {
     "languageId": "r"
    }
   },
   "outputs": [
    {
     "data": {
      "text/html": [
       "<table class=\"dataframe\">\n",
       "<caption>A matrix: 1 × 7 of type dbl</caption>\n",
       "<thead>\n",
       "\t<tr><th scope=col>000-000</th><th scope=col>001-030</th><th scope=col>031-060</th><th scope=col>061-090</th><th scope=col>091-120</th><th scope=col>121-150</th><th scope=col>Mayor a 150</th></tr>\n",
       "</thead>\n",
       "<tbody>\n",
       "\t<tr><td>0.8640343</td><td>0.004230069</td><td>0.004067075</td><td>0.002872164</td><td>0.003454752</td><td>0.002373643</td><td>0.118968</td></tr>\n",
       "</tbody>\n",
       "</table>\n"
      ],
      "text/latex": [
       "A matrix: 1 × 7 of type dbl\n",
       "\\begin{tabular}{lllllll}\n",
       " 000-000 & 001-030 & 031-060 & 061-090 & 091-120 & 121-150 & Mayor a 150\\\\\n",
       "\\hline\n",
       "\t 0.8640343 & 0.004230069 & 0.004067075 & 0.002872164 & 0.003454752 & 0.002373643 & 0.118968\\\\\n",
       "\\end{tabular}\n"
      ],
      "text/markdown": [
       "\n",
       "A matrix: 1 × 7 of type dbl\n",
       "\n",
       "| 000-000 | 001-030 | 031-060 | 061-090 | 091-120 | 121-150 | Mayor a 150 |\n",
       "|---|---|---|---|---|---|---|\n",
       "| 0.8640343 | 0.004230069 | 0.004067075 | 0.002872164 | 0.003454752 | 0.002373643 | 0.118968 |\n",
       "\n"
      ],
      "text/plain": [
       "     000-000   001-030     031-060     061-090     091-120     121-150    \n",
       "[1,] 0.8640343 0.004230069 0.004067075 0.002872164 0.003454752 0.002373643\n",
       "     Mayor a 150\n",
       "[1,] 0.118968   "
      ]
     },
     "metadata": {},
     "output_type": "display_data"
    }
   ],
   "source": [
    "# distribucion estacionaria de la cadena\n",
    "distEst = steadyStates(mcs) ; distEst"
   ]
  },
  {
   "cell_type": "markdown",
   "metadata": {},
   "source": [
    "## Comparacion matriz con tiempo anual"
   ]
  },
  {
   "cell_type": "code",
   "execution_count": 42,
   "metadata": {
    "vscode": {
     "languageId": "r"
    }
   },
   "outputs": [],
   "source": [
    "# cargamps la matriz de cada fila por rango de tiempo semestral\n",
    "psa = matrix(c(0.972061009,0.004158115,0.004281973,0.003043386,0.003698068,0.002406398,0.010351051,\n",
    "0.823019802,0.021039604,0.017326733,0.006188119,0.006188119,0.003712871,0.122524752,\n",
    "0.401015228,0.030456853,0.025380711,0.010152284,0.010152284,0.030456853,0.492385787,\n",
    "0.296551724,0.027586207,0.013793103,0.013793103,0.020689655,0.027586207,0.6,\n",
    "0.198275862,0.00862069,0.00862069,0.017241379,0.00862069,0.00862069,0.75,\n",
    "0.313953488,0,0.034883721,0,0,0,0.651162791,\n",
    "0.109243697,0.003601441,0,0.00060024,0.00120048,0.00120048,0.884153661),nrow = 7 , byrow = TRUE, dimnames = list(estados,estados))"
   ]
  },
  {
   "cell_type": "code",
   "execution_count": 46,
   "metadata": {
    "vscode": {
     "languageId": "r"
    }
   },
   "outputs": [
    {
     "data": {
      "text/plain": [
       "Cadena Markov \n",
       " A  7 - dimensional discrete Markov Chain defined by the following states: \n",
       " 000-000, 001-030, 031-060, 061-090, 091-120, 121-150, Mayor a 150 \n",
       " The transition matrix  (by rows)  is defined as follows: \n",
       "              000-000     001-030     031-060     061-090     091-120\n",
       "000-000     0.9720610 0.004158115 0.004281973 0.003043386 0.003698068\n",
       "001-030     0.8230198 0.021039604 0.017326733 0.006188119 0.006188119\n",
       "031-060     0.4010152 0.030456853 0.025380711 0.010152284 0.010152284\n",
       "061-090     0.2965517 0.027586207 0.013793103 0.013793103 0.020689655\n",
       "091-120     0.1982759 0.008620690 0.008620690 0.017241379 0.008620690\n",
       "121-150     0.3139535 0.000000000 0.034883721 0.000000000 0.000000000\n",
       "Mayor a 150 0.1092437 0.003601441 0.000000000 0.000600240 0.001200480\n",
       "                121-150 Mayor a 150\n",
       "000-000     0.002406398  0.01035105\n",
       "001-030     0.003712871  0.12252475\n",
       "031-060     0.030456853  0.49238579\n",
       "061-090     0.027586207  0.60000000\n",
       "091-120     0.008620690  0.75000000\n",
       "121-150     0.000000000  0.65116279\n",
       "Mayor a 150 0.001200480  0.88415366\n"
      ]
     },
     "metadata": {},
     "output_type": "display_data"
    }
   ],
   "source": [
    "#Elaboramos la matriz de transicion semestral\n",
    "mcsa <- new(\"markovchain\",transitionMatrix=psa,states=estados,name=\"Cadena Markov\")\n",
    "mcsa"
   ]
  },
  {
   "cell_type": "code",
   "execution_count": 47,
   "metadata": {
    "vscode": {
     "languageId": "r"
    }
   },
   "outputs": [
    {
     "name": "stdout",
     "output_type": "stream",
     "text": [
      "Cadena Markov  Markov chain that is composed by: \n",
      "Closed classes: \n",
      "000-000 001-030 031-060 061-090 091-120 121-150 Mayor a 150 \n",
      "Recurrent classes: \n",
      "{000-000,001-030,031-060,061-090,091-120,121-150,Mayor a 150}\n",
      "Transient classes: \n",
      "NONE \n",
      "The Markov chain is irreducible \n",
      "The absorbing states are: NONE\n"
     ]
    }
   ],
   "source": [
    "# resumen de la matriz\n",
    "# recurrentClasses(mcs)\n",
    "# canonicForm(mcs)\n",
    "summary(mcsa)"
   ]
  },
  {
   "cell_type": "code",
   "execution_count": 48,
   "metadata": {
    "vscode": {
     "languageId": "r"
    }
   },
   "outputs": [
    {
     "data": {
      "image/png": "[encoded data removed]",
      "text/plain": [
       "Plot with title \"Cadena de Markov\""
      ]
     },
     "metadata": {
      "image/png": {
       "height": 420,
       "width": 420
      }
     },
     "output_type": "display_data"
    }
   ],
   "source": [
    "# Graficamos la matriz\n",
    "plot(mcsa,main=\"Cadena de Markov\")"
   ]
  },
  {
   "cell_type": "code",
   "execution_count": 49,
   "metadata": {
    "vscode": {
     "languageId": "r"
    }
   },
   "outputs": [
    {
     "data": {
      "text/html": [
       "1.7326733"
      ],
      "text/latex": [
       "1.7326733"
      ],
      "text/markdown": [
       "1.7326733"
      ],
      "text/plain": [
       "[1] 1.732673"
      ]
     },
     "metadata": {},
     "output_type": "display_data"
    }
   ],
   "source": [
    "# podemos calcular las probabilidades de transicion para un estado t0 a t1 , en este caso como son datos de financera se quiere mirar la probabilidad\n",
    "# de que entre a ICV a un paso , en este caso anual\n",
    "t0 = \"001-030\"\n",
    "t1 = \"031-060\"\n",
    "\n",
    "transitionProbability(object = mcsa, t0 = t0, t1 = t1) * 100"
   ]
  },
  {
   "cell_type": "markdown",
   "metadata": {},
   "source": [
    "### Podemos ver que al comparar la semestral vs la anual , la probabilidad de entrar en cartera vencida es 0.43% mas alto que la semestralcon 2 pasos con 1.73%"
   ]
  },
  {
   "cell_type": "markdown",
   "metadata": {},
   "source": [
    "## Calculamos el paso 2 de la anual , para comparar con la semestral"
   ]
  },
  {
   "cell_type": "code",
   "execution_count": 50,
   "metadata": {
    "vscode": {
     "languageId": "r"
    }
   },
   "outputs": [
    {
     "data": {
      "text/plain": [
       "Cadena Markov^2 \n",
       " A  7 - dimensional discrete Markov Chain defined by the following states: \n",
       " 000-000, 001-030, 031-060, 061-090, 091-120, 121-150, Mayor a 150 \n",
       " The transition matrix  (by rows)  is defined as follows: \n",
       "              000-000     001-030      031-060      061-090     091-120\n",
       "000-000     0.9535640 0.004412956 0.0045008668 0.0031395102 0.003771223\n",
       "001-030     0.8419025 0.005057912 0.0045966789 0.0030764578 0.003678149\n",
       "031-060     0.4934316 0.005222165 0.0041790342 0.0022772075 0.002817791\n",
       "061-090     0.3989012 0.004953317 0.0034288024 0.0021203715 0.002591428\n",
       "091-120     0.2947498 0.004519410 0.0018300297 0.0015809202 0.002205498\n",
       "121-150     0.3903063 0.004713027 0.0022297140 0.0017004850 0.002296879\n",
       "Mayor a 150 0.2065367 0.003741155 0.0005906851 0.0009144384 0.001510453\n",
       "                121-150 Mayor a 150\n",
       "000-000     0.002613281  0.02799817\n",
       "001-030     0.002957489  0.13873078\n",
       "031-060     0.002809783  0.48926240\n",
       "061-090     0.002515287  0.58548955\n",
       "091-120     0.002221998  0.69289238\n",
       "121-150     0.002599653  0.59615396\n",
       "Mayor a 150 0.001364572  0.78534196\n"
      ]
     },
     "metadata": {},
     "output_type": "display_data"
    }
   ],
   "source": [
    "na = 2\n",
    "msc_na = mcsa^na ; msc_na"
   ]
  },
  {
   "cell_type": "code",
   "execution_count": 51,
   "metadata": {
    "vscode": {
     "languageId": "r"
    }
   },
   "outputs": [
    {
     "data": {
      "text/html": [
       "0.45966789488086"
      ],
      "text/latex": [
       "0.45966789488086"
      ],
      "text/markdown": [
       "0.45966789488086"
      ],
      "text/plain": [
       "[1] 0.4596679"
      ]
     },
     "metadata": {},
     "output_type": "display_data"
    }
   ],
   "source": [
    "t0 = \"001-030\"\n",
    "t1 = \"031-060\"\n",
    "\n",
    "transitionProbability(object = msc_na, t0 = t0, t1 = t1) * 100"
   ]
  },
  {
   "cell_type": "code",
   "execution_count": 57,
   "metadata": {
    "vscode": {
     "languageId": "r"
    }
   },
   "outputs": [
    {
     "data": {
      "text/html": [
       "<table class=\"dataframe\">\n",
       "<caption>A matrix: 2 × 7 of type dbl</caption>\n",
       "<thead>\n",
       "\t<tr><th></th><th scope=col>000-000</th><th scope=col>001-030</th><th scope=col>031-060</th><th scope=col>061-090</th><th scope=col>091-120</th><th scope=col>121-150</th><th scope=col>Mayor a 150</th></tr>\n",
       "</thead>\n",
       "<tbody>\n",
       "\t<tr><th scope=row>1</th><td>0.82301980</td><td>0.021039604</td><td>0.017326733</td><td>0.006188119</td><td>0.006188119</td><td>0.003712871</td><td>0.12252475</td></tr>\n",
       "\t<tr><th scope=row>2</th><td>0.04187707</td><td>0.004615247</td><td>0.004156914</td><td>0.002991104</td><td>0.003624803</td><td>0.002957489</td><td>0.03040007</td></tr>\n",
       "</tbody>\n",
       "</table>\n"
      ],
      "text/latex": [
       "A matrix: 2 × 7 of type dbl\n",
       "\\begin{tabular}{r|lllllll}\n",
       "  & 000-000 & 001-030 & 031-060 & 061-090 & 091-120 & 121-150 & Mayor a 150\\\\\n",
       "\\hline\n",
       "\t1 & 0.82301980 & 0.021039604 & 0.017326733 & 0.006188119 & 0.006188119 & 0.003712871 & 0.12252475\\\\\n",
       "\t2 & 0.04187707 & 0.004615247 & 0.004156914 & 0.002991104 & 0.003624803 & 0.002957489 & 0.03040007\\\\\n",
       "\\end{tabular}\n"
      ],
      "text/markdown": [
       "\n",
       "A matrix: 2 × 7 of type dbl\n",
       "\n",
       "| <!--/--> | 000-000 | 001-030 | 031-060 | 061-090 | 091-120 | 121-150 | Mayor a 150 |\n",
       "|---|---|---|---|---|---|---|---|\n",
       "| 1 | 0.82301980 | 0.021039604 | 0.017326733 | 0.006188119 | 0.006188119 | 0.003712871 | 0.12252475 |\n",
       "| 2 | 0.04187707 | 0.004615247 | 0.004156914 | 0.002991104 | 0.003624803 | 0.002957489 | 0.03040007 |\n",
       "\n"
      ],
      "text/plain": [
       "  000-000    001-030     031-060     061-090     091-120     121-150    \n",
       "1 0.82301980 0.021039604 0.017326733 0.006188119 0.006188119 0.003712871\n",
       "2 0.04187707 0.004615247 0.004156914 0.002991104 0.003624803 0.002957489\n",
       "  Mayor a 150\n",
       "1 0.12252475 \n",
       "2 0.03040007 "
      ]
     },
     "metadata": {},
     "output_type": "display_data"
    }
   ],
   "source": [
    "# Calculo probabilidad del primer paso para el conjunto de estado completo\n",
    "mcsa_n1<-as(mcsa, \"markovchain\")\n",
    "firstPassage(mcsa_n1, \"001-030\",2)"
   ]
  },
  {
   "cell_type": "markdown",
   "metadata": {},
   "source": [
    "### A partir de estos podemos calcular las porbilidades de incumplimiento para cada estado, la tasa de recuperacion"
   ]
  }
 ],
 "metadata": {
  "kernelspec": {
   "display_name": "R",
   "language": "R",
   "name": "ir"
  },
  "language_info": {
   "codemirror_mode": "r",
   "file_extension": ".r",
   "mimetype": "text/x-r-source",
   "name": "R",
   "pygments_lexer": "r",
   "version": "4.3.0"
  }
 },
 "nbformat": 4,
 "nbformat_minor": 2
}
